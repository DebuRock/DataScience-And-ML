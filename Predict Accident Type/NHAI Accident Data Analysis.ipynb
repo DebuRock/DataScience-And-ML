{
 "cells": [
  {
   "cell_type": "markdown",
   "metadata": {},
   "source": [
    "Consider National Highway Authority of India (NHAI) provides you a real accidental data set of Bangalore highway of India. The size of data set is (83 x 8). Apply suitable Machine Learning technique to address following problems.\n",
    "1. Forecast Accident type(variable C in the data set) for year 2015 based on the observations given for year 2014 in the data set. Analyse the predictive results achieved.\n",
    "\n",
    "[Hint:-\n",
    "\n",
    "* LHS stands for Left-hand sight\n",
    "* RHS stands for Right-hand side\n",
    "* Ch. stands for Chainage which is an imaginary line used to measure distance, often corresponding to the centre of a straight road.\n",
    "* KM/km/KMS is kilometres\n",
    "* ROW - Right of Way - the legal right, established by usage or grant, to pass along a specific route through grounds or property belonging to another, for example, to remove obstructions to make roads\n",
    "* MCW means the main carriageway\n",
    "\n",
    "Also, 103+123 km means 103 km and 123 metres, or 103.123 metres.\n",
    "Please note for solving & understanding convenience, either convert \"+\" values into \".\" format . Check that the entire column values in the same format ]\n",
    "\n",
    "2. Use feature Location in the data set to identify the prone area of major accidents.\n",
    "3. Identify top 5 important features for variable Accident type(variable C in the data set)"
   ]
  },
  {
   "cell_type": "markdown",
   "metadata": {},
   "source": [
    "## Content\n",
    "\n",
    "* [1. Loading Data And Overview](#data_loading)\n",
    "* [2. Data Preprocessing](#data_preprocessing)\n",
    "* [2.1. Accident Date Time](#acc_datetime)\n",
    "* [2.2 Accident Location](#acc_location)\n",
    "* [2.3 Accident Causes](#acc_causes)\n",
    "* [2.4 Help Provided By Ambulance Patrol](#acc_help)\n",
    "* [2.5 Classification of Accident](#acc_classification)\n",
    "* [2.6 Rearanging Columns](#col_rearange)"
   ]
  },
  {
   "cell_type": "code",
   "execution_count": 20,
   "metadata": {},
   "outputs": [],
   "source": [
    "## Load all library\n",
    "import numpy as np\n",
    "import pandas as pd\n",
    "import matplotlib.pyplot as plt\n",
    "%matplotlib inline\n",
    "import seaborn as sns\n",
    "import re\n",
    "from collections import Counter\n",
    "from sklearn.preprocessing import StandardScaler\n",
    "from sklearn.preprocessing import LabelEncoder\n",
    "from sklearn.model_selection import train_test_split\n",
    "from matplotlib.colors import ListedColormap\n",
    "from sklearn.decomposition import PCA\n",
    "from sklearn.decomposition import KernelPCA\n",
    "from sklearn.svm import SVC\n",
    "from sklearn.ensemble import RandomForestClassifier\n",
    "from sklearn.feature_selection import SelectFromModel"
   ]
  },
  {
   "cell_type": "code",
   "execution_count": 2,
   "metadata": {},
   "outputs": [],
   "source": [
    "sns.set_style('darkgrid')"
   ]
  },
  {
   "cell_type": "markdown",
   "metadata": {},
   "source": [
    "<a id='data_loading'></a>\n",
    "## 1. Loading Data And Overview"
   ]
  },
  {
   "cell_type": "code",
   "execution_count": 3,
   "metadata": {},
   "outputs": [
    {
     "data": {
      "text/html": [
       "<div>\n",
       "<style scoped>\n",
       "    .dataframe tbody tr th:only-of-type {\n",
       "        vertical-align: middle;\n",
       "    }\n",
       "\n",
       "    .dataframe tbody tr th {\n",
       "        vertical-align: top;\n",
       "    }\n",
       "\n",
       "    .dataframe thead th {\n",
       "        text-align: right;\n",
       "    }\n",
       "</style>\n",
       "<table border=\"1\" class=\"dataframe\">\n",
       "  <thead>\n",
       "    <tr style=\"text-align: right;\">\n",
       "      <th></th>\n",
       "      <th>Date</th>\n",
       "      <th>TimeOfAcc</th>\n",
       "      <th>AccLocation</th>\n",
       "      <th>NatureAccident</th>\n",
       "      <th>ClassificationOfAccident</th>\n",
       "      <th>Causes</th>\n",
       "      <th>RoadFeature</th>\n",
       "      <th>RoadCondition</th>\n",
       "      <th>IntersectionTypeControl</th>\n",
       "      <th>WeatherCondition</th>\n",
       "      <th>VehicleResponsible</th>\n",
       "      <th>Fatal</th>\n",
       "      <th>Grevious</th>\n",
       "      <th>Minor</th>\n",
       "      <th>Injured</th>\n",
       "      <th>NumAnimalsKilled</th>\n",
       "      <th>HelpProvidedByAmbulancePatrol</th>\n",
       "      <th>Remarks</th>\n",
       "    </tr>\n",
       "  </thead>\n",
       "  <tbody>\n",
       "    <tr>\n",
       "      <td>0</td>\n",
       "      <td>9/6/2015</td>\n",
       "      <td>09:00 AM</td>\n",
       "      <td>Ch. 69+5006</td>\n",
       "      <td>2</td>\n",
       "      <td>2</td>\n",
       "      <td>2</td>\n",
       "      <td>2</td>\n",
       "      <td>1</td>\n",
       "      <td>9</td>\n",
       "      <td>1</td>\n",
       "      <td>One Diesel Truck collapsed</td>\n",
       "      <td>0</td>\n",
       "      <td>2</td>\n",
       "      <td>1</td>\n",
       "      <td>0</td>\n",
       "      <td>0</td>\n",
       "      <td>Petrol Vehicle</td>\n",
       "      <td>NaN</td>\n",
       "    </tr>\n",
       "    <tr>\n",
       "      <td>1</td>\n",
       "      <td>9/5/2014</td>\n",
       "      <td>07:18 AM</td>\n",
       "      <td>72+500</td>\n",
       "      <td>7</td>\n",
       "      <td>1</td>\n",
       "      <td>2</td>\n",
       "      <td>2</td>\n",
       "      <td>3</td>\n",
       "      <td>9</td>\n",
       "      <td>1</td>\n",
       "      <td>Lorry &amp; Scorpio</td>\n",
       "      <td>2</td>\n",
       "      <td>0</td>\n",
       "      <td>0</td>\n",
       "      <td>0</td>\n",
       "      <td>0</td>\n",
       "      <td>Ambulance</td>\n",
       "      <td>NaN</td>\n",
       "    </tr>\n",
       "    <tr>\n",
       "      <td>2</td>\n",
       "      <td>9/10/2014</td>\n",
       "      <td>08:50 AM</td>\n",
       "      <td>20+250 LHS</td>\n",
       "      <td>4</td>\n",
       "      <td>-</td>\n",
       "      <td>3</td>\n",
       "      <td>3</td>\n",
       "      <td>1</td>\n",
       "      <td>9</td>\n",
       "      <td>1</td>\n",
       "      <td>LCV (KA02 AD 4041) HIT CAR (KA 19 Z 8477)</td>\n",
       "      <td>0</td>\n",
       "      <td>0</td>\n",
       "      <td>0</td>\n",
       "      <td>0</td>\n",
       "      <td>0</td>\n",
       "      <td>Petrol Vehicle</td>\n",
       "      <td>NO PROPERTY DAMAGES. INFORMED KEY PERSONS.</td>\n",
       "    </tr>\n",
       "    <tr>\n",
       "      <td>3</td>\n",
       "      <td>8/9/2015</td>\n",
       "      <td>05:00 AM</td>\n",
       "      <td>NaN</td>\n",
       "      <td>1</td>\n",
       "      <td>2</td>\n",
       "      <td>2</td>\n",
       "      <td>1</td>\n",
       "      <td>3</td>\n",
       "      <td>9</td>\n",
       "      <td>1</td>\n",
       "      <td>Lorry Truck</td>\n",
       "      <td>0</td>\n",
       "      <td>1</td>\n",
       "      <td>1</td>\n",
       "      <td>0</td>\n",
       "      <td>0</td>\n",
       "      <td>Petrol Vehicle</td>\n",
       "      <td>NaN</td>\n",
       "    </tr>\n",
       "    <tr>\n",
       "      <td>4</td>\n",
       "      <td>8/4/2015</td>\n",
       "      <td>08:23 AM</td>\n",
       "      <td>126.800 KM RHS</td>\n",
       "      <td>2</td>\n",
       "      <td>2</td>\n",
       "      <td>2</td>\n",
       "      <td>4</td>\n",
       "      <td>4</td>\n",
       "      <td>9</td>\n",
       "      <td>1</td>\n",
       "      <td>Car</td>\n",
       "      <td>0</td>\n",
       "      <td>2</td>\n",
       "      <td>1</td>\n",
       "      <td>1</td>\n",
       "      <td>0</td>\n",
       "      <td>Petrol Vehicle</td>\n",
       "      <td>A car upside due to over speed</td>\n",
       "    </tr>\n",
       "  </tbody>\n",
       "</table>\n",
       "</div>"
      ],
      "text/plain": [
       "        Date TimeOfAcc     AccLocation  NatureAccident  \\\n",
       "0   9/6/2015  09:00 AM     Ch. 69+5006               2   \n",
       "1   9/5/2014  07:18 AM          72+500               7   \n",
       "2  9/10/2014  08:50 AM      20+250 LHS               4   \n",
       "3   8/9/2015  05:00 AM             NaN               1   \n",
       "4   8/4/2015  08:23 AM  126.800 KM RHS               2   \n",
       "\n",
       "  ClassificationOfAccident Causes  RoadFeature  RoadCondition  \\\n",
       "0                        2      2            2              1   \n",
       "1                        1      2            2              3   \n",
       "2                        -      3            3              1   \n",
       "3                        2      2            1              3   \n",
       "4                        2      2            4              4   \n",
       "\n",
       "   IntersectionTypeControl  WeatherCondition  \\\n",
       "0                        9                 1   \n",
       "1                        9                 1   \n",
       "2                        9                 1   \n",
       "3                        9                 1   \n",
       "4                        9                 1   \n",
       "\n",
       "                          VehicleResponsible  Fatal  Grevious  Minor  Injured  \\\n",
       "0                 One Diesel Truck collapsed      0         2      1        0   \n",
       "1                            Lorry & Scorpio      2         0      0        0   \n",
       "2  LCV (KA02 AD 4041) HIT CAR (KA 19 Z 8477)      0         0      0        0   \n",
       "3                                Lorry Truck      0         1      1        0   \n",
       "4                                        Car      0         2      1        1   \n",
       "\n",
       "   NumAnimalsKilled HelpProvidedByAmbulancePatrol  \\\n",
       "0                 0                Petrol Vehicle   \n",
       "1                 0                     Ambulance   \n",
       "2                 0                Petrol Vehicle   \n",
       "3                 0                Petrol Vehicle   \n",
       "4                 0                Petrol Vehicle   \n",
       "\n",
       "                                      Remarks  \n",
       "0                                         NaN  \n",
       "1                                         NaN  \n",
       "2  NO PROPERTY DAMAGES. INFORMED KEY PERSONS.  \n",
       "3                                         NaN  \n",
       "4              A car upside due to over speed  "
      ]
     },
     "execution_count": 3,
     "metadata": {},
     "output_type": "execute_result"
    }
   ],
   "source": [
    "## Load the data\n",
    "accident_data = pd.read_csv('NHAIAccidentData.csv')\n",
    "accident_data.head()"
   ]
  },
  {
   "cell_type": "code",
   "execution_count": 4,
   "metadata": {},
   "outputs": [
    {
     "data": {
      "text/plain": [
       "(91, 18)"
      ]
     },
     "execution_count": 4,
     "metadata": {},
     "output_type": "execute_result"
    }
   ],
   "source": [
    "accident_data.shape"
   ]
  },
  {
   "cell_type": "markdown",
   "metadata": {},
   "source": [
    "In this dataset 91 accident records present.Some Missing data are present in the set. We need to process those data before applying a learning algorithm."
   ]
  },
  {
   "cell_type": "markdown",
   "metadata": {},
   "source": [
    "## 2. Data Preprocessing"
   ]
  },
  {
   "cell_type": "markdown",
   "metadata": {},
   "source": [
    "<a id='acc_datetime'></a>\n",
    "### 2.1 Accident Date Time"
   ]
  },
  {
   "cell_type": "code",
   "execution_count": 5,
   "metadata": {},
   "outputs": [
    {
     "name": "stderr",
     "output_type": "stream",
     "text": [
      "C:\\Anaconda\\lib\\site-packages\\pandas\\core\\frame.py:4102: SettingWithCopyWarning: \n",
      "A value is trying to be set on a copy of a slice from a DataFrame\n",
      "\n",
      "See the caveats in the documentation: http://pandas.pydata.org/pandas-docs/stable/user_guide/indexing.html#returning-a-view-versus-a-copy\n",
      "  errors=errors,\n"
     ]
    },
    {
     "data": {
      "text/html": [
       "<div>\n",
       "<style scoped>\n",
       "    .dataframe tbody tr th:only-of-type {\n",
       "        vertical-align: middle;\n",
       "    }\n",
       "\n",
       "    .dataframe tbody tr th {\n",
       "        vertical-align: top;\n",
       "    }\n",
       "\n",
       "    .dataframe thead th {\n",
       "        text-align: right;\n",
       "    }\n",
       "</style>\n",
       "<table border=\"1\" class=\"dataframe\">\n",
       "  <thead>\n",
       "    <tr style=\"text-align: right;\">\n",
       "      <th></th>\n",
       "      <th>Acc_datetime</th>\n",
       "      <th>AccLocation</th>\n",
       "      <th>NatureAccident</th>\n",
       "      <th>ClassificationOfAccident</th>\n",
       "      <th>Causes</th>\n",
       "      <th>RoadFeature</th>\n",
       "      <th>RoadCondition</th>\n",
       "      <th>IntersectionTypeControl</th>\n",
       "      <th>WeatherCondition</th>\n",
       "      <th>VehicleResponsible</th>\n",
       "      <th>Fatal</th>\n",
       "      <th>Grevious</th>\n",
       "      <th>Minor</th>\n",
       "      <th>Injured</th>\n",
       "      <th>NumAnimalsKilled</th>\n",
       "      <th>HelpProvidedByAmbulancePatrol</th>\n",
       "      <th>Remarks</th>\n",
       "    </tr>\n",
       "  </thead>\n",
       "  <tbody>\n",
       "    <tr>\n",
       "      <td>0</td>\n",
       "      <td>9/6/2015 09:00 AM</td>\n",
       "      <td>Ch. 69+5006</td>\n",
       "      <td>2</td>\n",
       "      <td>2</td>\n",
       "      <td>2</td>\n",
       "      <td>2</td>\n",
       "      <td>1</td>\n",
       "      <td>9</td>\n",
       "      <td>1</td>\n",
       "      <td>One Diesel Truck collapsed</td>\n",
       "      <td>0</td>\n",
       "      <td>2</td>\n",
       "      <td>1</td>\n",
       "      <td>0</td>\n",
       "      <td>0</td>\n",
       "      <td>Petrol Vehicle</td>\n",
       "      <td>NaN</td>\n",
       "    </tr>\n",
       "    <tr>\n",
       "      <td>1</td>\n",
       "      <td>9/5/2014 07:18 AM</td>\n",
       "      <td>72+500</td>\n",
       "      <td>7</td>\n",
       "      <td>1</td>\n",
       "      <td>2</td>\n",
       "      <td>2</td>\n",
       "      <td>3</td>\n",
       "      <td>9</td>\n",
       "      <td>1</td>\n",
       "      <td>Lorry &amp; Scorpio</td>\n",
       "      <td>2</td>\n",
       "      <td>0</td>\n",
       "      <td>0</td>\n",
       "      <td>0</td>\n",
       "      <td>0</td>\n",
       "      <td>Ambulance</td>\n",
       "      <td>NaN</td>\n",
       "    </tr>\n",
       "    <tr>\n",
       "      <td>2</td>\n",
       "      <td>9/10/2014 08:50 AM</td>\n",
       "      <td>20+250 LHS</td>\n",
       "      <td>4</td>\n",
       "      <td>-</td>\n",
       "      <td>3</td>\n",
       "      <td>3</td>\n",
       "      <td>1</td>\n",
       "      <td>9</td>\n",
       "      <td>1</td>\n",
       "      <td>LCV (KA02 AD 4041) HIT CAR (KA 19 Z 8477)</td>\n",
       "      <td>0</td>\n",
       "      <td>0</td>\n",
       "      <td>0</td>\n",
       "      <td>0</td>\n",
       "      <td>0</td>\n",
       "      <td>Petrol Vehicle</td>\n",
       "      <td>NO PROPERTY DAMAGES. INFORMED KEY PERSONS.</td>\n",
       "    </tr>\n",
       "    <tr>\n",
       "      <td>3</td>\n",
       "      <td>8/9/2015 05:00 AM</td>\n",
       "      <td>NaN</td>\n",
       "      <td>1</td>\n",
       "      <td>2</td>\n",
       "      <td>2</td>\n",
       "      <td>1</td>\n",
       "      <td>3</td>\n",
       "      <td>9</td>\n",
       "      <td>1</td>\n",
       "      <td>Lorry Truck</td>\n",
       "      <td>0</td>\n",
       "      <td>1</td>\n",
       "      <td>1</td>\n",
       "      <td>0</td>\n",
       "      <td>0</td>\n",
       "      <td>Petrol Vehicle</td>\n",
       "      <td>NaN</td>\n",
       "    </tr>\n",
       "    <tr>\n",
       "      <td>4</td>\n",
       "      <td>8/4/2015 08:23 AM</td>\n",
       "      <td>126.800 KM RHS</td>\n",
       "      <td>2</td>\n",
       "      <td>2</td>\n",
       "      <td>2</td>\n",
       "      <td>4</td>\n",
       "      <td>4</td>\n",
       "      <td>9</td>\n",
       "      <td>1</td>\n",
       "      <td>Car</td>\n",
       "      <td>0</td>\n",
       "      <td>2</td>\n",
       "      <td>1</td>\n",
       "      <td>1</td>\n",
       "      <td>0</td>\n",
       "      <td>Petrol Vehicle</td>\n",
       "      <td>A car upside due to over speed</td>\n",
       "    </tr>\n",
       "  </tbody>\n",
       "</table>\n",
       "</div>"
      ],
      "text/plain": [
       "         Acc_datetime     AccLocation  NatureAccident  \\\n",
       "0   9/6/2015 09:00 AM     Ch. 69+5006               2   \n",
       "1   9/5/2014 07:18 AM          72+500               7   \n",
       "2  9/10/2014 08:50 AM      20+250 LHS               4   \n",
       "3   8/9/2015 05:00 AM             NaN               1   \n",
       "4   8/4/2015 08:23 AM  126.800 KM RHS               2   \n",
       "\n",
       "  ClassificationOfAccident Causes  RoadFeature  RoadCondition  \\\n",
       "0                        2      2            2              1   \n",
       "1                        1      2            2              3   \n",
       "2                        -      3            3              1   \n",
       "3                        2      2            1              3   \n",
       "4                        2      2            4              4   \n",
       "\n",
       "   IntersectionTypeControl  WeatherCondition  \\\n",
       "0                        9                 1   \n",
       "1                        9                 1   \n",
       "2                        9                 1   \n",
       "3                        9                 1   \n",
       "4                        9                 1   \n",
       "\n",
       "                          VehicleResponsible  Fatal  Grevious  Minor  Injured  \\\n",
       "0                 One Diesel Truck collapsed      0         2      1        0   \n",
       "1                            Lorry & Scorpio      2         0      0        0   \n",
       "2  LCV (KA02 AD 4041) HIT CAR (KA 19 Z 8477)      0         0      0        0   \n",
       "3                                Lorry Truck      0         1      1        0   \n",
       "4                                        Car      0         2      1        1   \n",
       "\n",
       "   NumAnimalsKilled HelpProvidedByAmbulancePatrol  \\\n",
       "0                 0                Petrol Vehicle   \n",
       "1                 0                     Ambulance   \n",
       "2                 0                Petrol Vehicle   \n",
       "3                 0                Petrol Vehicle   \n",
       "4                 0                Petrol Vehicle   \n",
       "\n",
       "                                      Remarks  \n",
       "0                                         NaN  \n",
       "1                                         NaN  \n",
       "2  NO PROPERTY DAMAGES. INFORMED KEY PERSONS.  \n",
       "3                                         NaN  \n",
       "4              A car upside due to over speed  "
      ]
     },
     "execution_count": 5,
     "metadata": {},
     "output_type": "execute_result"
    }
   ],
   "source": [
    "# Concatenating date and time column\n",
    "accident_data['Acc_datetime'] = accident_data['Date'].values + ' ' +  accident_data['TimeOfAcc'].values\n",
    "cols = accident_data.columns.to_list()\n",
    "cols = cols[-1:] + cols[:-1]\n",
    "accident_data = accident_data[cols]\n",
    "## Drop the Date and TimeOfAcc columns\n",
    "accident_data.drop(['Date', 'TimeOfAcc'], axis=1, inplace=True)\n",
    "accident_data.head()"
   ]
  },
  {
   "cell_type": "code",
   "execution_count": 7,
   "metadata": {},
   "outputs": [
    {
     "data": {
      "text/plain": [
       "(array([40.,  0., 47.,  0.,  0.,  0.,  0.,  0.,  0.,  4.]),\n",
       " array([2014. , 2014.4, 2014.8, 2015.2, 2015.6, 2016. , 2016.4, 2016.8,\n",
       "        2017.2, 2017.6, 2018. ]),\n",
       " <a list of 10 Patch objects>)"
      ]
     },
     "execution_count": 7,
     "metadata": {},
     "output_type": "execute_result"
    },
    {
     "data": {
      "image/png": "[encoded data removed]",
      "text/plain": [
       "<Figure size 864x576 with 1 Axes>"
      ]
     },
     "metadata": {},
     "output_type": "display_data"
    }
   ],
   "source": [
    "datetime = pd.to_datetime(accident_data['Acc_datetime'].values)\n",
    "plt.figure(figsize=(12,8))\n",
    "plt.tight_layout\n",
    "plt.hist(datetime.year)"
   ]
  },
  {
   "cell_type": "markdown",
   "metadata": {},
   "source": [
    "More accicent occure in the year 2015. Less accident happen in the year 2017 to 2018"
   ]
  },
  {
   "cell_type": "code",
   "execution_count": 9,
   "metadata": {},
   "outputs": [
    {
     "data": {
      "text/plain": [
       "<matplotlib.axes._subplots.AxesSubplot at 0x1b6be203188>"
      ]
     },
     "execution_count": 9,
     "metadata": {},
     "output_type": "execute_result"
    },
    {
     "data": {
      "image/png": "[encoded data removed]",
      "text/plain": [
       "<Figure size 864x576 with 1 Axes>"
      ]
     },
     "metadata": {},
     "output_type": "display_data"
    }
   ],
   "source": [
    "def day_time_labeler(timeVal):\n",
    "    if timeVal <= 4:\n",
    "        return 'Mid-Night'\n",
    "    elif timeVal > 4 and timeVal <= 6:\n",
    "        return 'Early Morning'\n",
    "    elif timeVal > 6 and timeVal <= 9:\n",
    "        return 'Morning'\n",
    "    elif timeVal > 9 and timeVal <= 12:\n",
    "        return 'Mid-Morning'\n",
    "    elif timeVal > 12 and timeVal <= 16:\n",
    "        return 'Afternoon'\n",
    "    elif timeVal > 16 and timeVal <= 20:\n",
    "        return 'Evening'\n",
    "    elif timeVal > 20 and timeVal <= 23:\n",
    "        return 'Night'\n",
    "\n",
    "# Acc_daytime column added by specifying a hour threshold\n",
    "accident_data['Acc_daytime'] = datetime.hour\n",
    "accident_data['Acc_daytime'] = accident_data['Acc_daytime'].apply(lambda x: day_time_labeler(x))\n",
    "plt.figure(figsize=(12,8))\n",
    "plt.tight_layout\n",
    "accident_data['Acc_daytime'].hist()"
   ]
  },
  {
   "cell_type": "markdown",
   "metadata": {},
   "source": [
    "Most of the accidents occure between 8:00 AM and 9:00 AM in the morning. But Acc_daytime is a categorical column so we need convert it into numerical column."
   ]
  },
  {
   "cell_type": "code",
   "execution_count": 23,
   "metadata": {},
   "outputs": [],
   "source": [
    "le_daytime = LabelEncoder()\n",
    "accident_data['Acc_daytime'] = le_daytime.fit_transform(accident_data['Acc_daytime'].values)"
   ]
  },
  {
   "cell_type": "markdown",
   "metadata": {},
   "source": [
    "<a id='acc_location'></a>\n",
    "### 2.2 Accident Location"
   ]
  },
  {
   "cell_type": "code",
   "execution_count": 10,
   "metadata": {},
   "outputs": [
    {
     "data": {
      "text/plain": [
       "array([ 69.5  ,  72.5  ,  20.25 ,   0.   , 126.8  , 126.8  , 126.8  ,\n",
       "       160.11 , 115.6  , 115.6  ,  84.3  ,  26.2  , 172.2  ,  18.7  ,\n",
       "        80.   , 162.8  , 162.8  ,  96.1  ,  91.8  , 135.025,  60.2  ,\n",
       "       164.85 ,  14.835,  27.8  ,  92.   , 126.8  , 126.8  ,  24.65 ,\n",
       "         0.   , 117.5  , 109.   , 109.   , 109.   ,  16.7  ,  24.675,\n",
       "        19.35 ,   0.   ,   0.   , 149.2  , 180.9  , 173.2  , 131.6  ,\n",
       "       132.6  , 122.05 , 117.   ,   0.   , 157.8  , 128.   ,  90.25 ,\n",
       "       157.4  ,  20.7  ,  91.8  , 162.8  , 138.25 , 138.25 , 121.7  ,\n",
       "        18.8  ,  23.   ,  18.8  , 132.7  , 104.5  , 148.2  ,  18.7  ,\n",
       "       126.9  ,  89.5  , 125.   ,  17.15 ,  14.55 ,  86.   ,  86.   ,\n",
       "       164.2  ,  85.4  ,  13.5  , 162.05 , 147.7  , 147.7  , 122.1  ,\n",
       "       153.9  , 112.6  , 142.3  ,  86.   ,  26.   ,  24.75 ,  24.1  ,\n",
       "        86.   , 133.   ,  21.8  , 150.   , 148.9  ,  12.5  ,  24.5  ])"
      ]
     },
     "execution_count": 10,
     "metadata": {},
     "output_type": "execute_result"
    }
   ],
   "source": [
    "# This function extract speed factor from the AccLocation Column\n",
    "def speed_extractor(StrText):\n",
    "    result = 0.000\n",
    "    try:\n",
    "        if len(StrText) > 0:\n",
    "            val = re.findall('\\d{1,15}.\\d{1,3}', StrText)\n",
    "            result = float(val[0]) if len(val) > 0 else 0\n",
    "    except ValueError:\n",
    "        result = 0.000\n",
    "    return result\n",
    "\n",
    "accident_data['AccLocation_temp'] = accident_data['AccLocation'].fillna('Unknown')\n",
    "# Replace all + with .\n",
    "accident_data['AccLocation_temp'].replace('\\+', '.', regex=True, inplace=True)\n",
    "accident_data['Acc_speed'] = accident_data['AccLocation_temp'].apply(lambda x: speed_extractor(x))\n",
    "accident_data.drop(['AccLocation_temp'], axis=1, inplace=True)\n",
    "accident_data['Acc_speed'].values"
   ]
  },
  {
   "cell_type": "code",
   "execution_count": 15,
   "metadata": {},
   "outputs": [
    {
     "name": "stdout",
     "output_type": "stream",
     "text": [
      "Most Accident pron areas are:\n",
      "\n",
      "126.800 KM RHS\n",
      "\n",
      "109.000 KM RHS\n"
     ]
    }
   ],
   "source": [
    "locCounter = Counter(accident_data['AccLocation'].values)\n",
    "print(\"Most Accident pron areas are:\")\n",
    "for loc in locCounter.most_common(2):\n",
    "    print(\"\\n%s\"%loc[0])"
   ]
  },
  {
   "cell_type": "markdown",
   "metadata": {},
   "source": [
    "<a id='acc_causes'></a>\n",
    "### 2.3 Accident Cause"
   ]
  },
  {
   "cell_type": "code",
   "execution_count": 16,
   "metadata": {},
   "outputs": [
    {
     "data": {
      "text/plain": [
       "array(['2', '3', '1', '4', '5', '-', '7'], dtype=object)"
      ]
     },
     "execution_count": 16,
     "metadata": {},
     "output_type": "execute_result"
    }
   ],
   "source": [
    "accident_data['Causes'].unique()"
   ]
  },
  {
   "cell_type": "markdown",
   "metadata": {},
   "source": [
    "As we can see there are some missig data present so we can replace the value of that with 6"
   ]
  },
  {
   "cell_type": "code",
   "execution_count": 19,
   "metadata": {},
   "outputs": [
    {
     "data": {
      "text/plain": [
       "array([2, 3, 1, 4, 5, 6, 7], dtype=int64)"
      ]
     },
     "execution_count": 19,
     "metadata": {},
     "output_type": "execute_result"
    }
   ],
   "source": [
    "accident_data['Causes'] = accident_data['Causes'].apply(lambda x: int(x) if str.isnumeric(x) else 6)\n",
    "accident_data['Causes'].unique()"
   ]
  },
  {
   "cell_type": "markdown",
   "metadata": {},
   "source": [
    "<a id='acc_help'></a>\n",
    "### 2.4 Help Provided By Ambulance Patrol"
   ]
  },
  {
   "cell_type": "code",
   "execution_count": 21,
   "metadata": {},
   "outputs": [
    {
     "data": {
      "text/plain": [
       "array(['Petrol Vehicle', 'Ambulance', 'Ambulance/Petrol Vehicle'],\n",
       "      dtype=object)"
      ]
     },
     "execution_count": 21,
     "metadata": {},
     "output_type": "execute_result"
    }
   ],
   "source": [
    "accident_data['HelpProvidedByAmbulancePatrol'].unique()"
   ]
  },
  {
   "cell_type": "code",
   "execution_count": 22,
   "metadata": {},
   "outputs": [
    {
     "data": {
      "text/plain": [
       "array([2, 0, 2, 2, 2, 2, 2, 2, 2, 2, 1, 2, 2, 1, 2, 2, 2, 2, 0, 0, 0, 2,\n",
       "       1, 1, 2, 2, 2, 2, 1, 1, 2, 2, 2, 1, 1, 1, 2, 1, 2, 2, 2, 0, 2, 2,\n",
       "       0, 0, 2, 2, 2, 2, 1, 1, 2, 2, 2, 2, 2, 1, 1, 2, 0, 2, 1, 0, 1, 2,\n",
       "       0, 1, 2, 2, 2, 2, 0, 1, 2, 2, 2, 1, 2, 2, 0, 2, 2, 1, 0, 0, 1, 2,\n",
       "       2, 1, 1])"
      ]
     },
     "execution_count": 22,
     "metadata": {},
     "output_type": "execute_result"
    }
   ],
   "source": [
    "# We need to convert this categorical columns to numerical column so that we can easily train our algorithm\n",
    "le = LabelEncoder()\n",
    "accident_data['HelpProvidedByAmbulancePatrol'] = le.fit_transform(accident_data['HelpProvidedByAmbulancePatrol'].values)\n",
    "accident_data['HelpProvidedByAmbulancePatrol'].values"
   ]
  },
  {
   "cell_type": "markdown",
   "metadata": {},
   "source": [
    "<a id='acc_classification'></a>\n",
    "### 2.5 Classification of Accident"
   ]
  },
  {
   "cell_type": "code",
   "execution_count": 27,
   "metadata": {},
   "outputs": [
    {
     "data": {
      "text/plain": [
       "array(['2', '1', '-', '3', '4'], dtype=object)"
      ]
     },
     "execution_count": 27,
     "metadata": {},
     "output_type": "execute_result"
    }
   ],
   "source": [
    "accident_data['ClassificationOfAccident'].unique()"
   ]
  },
  {
   "cell_type": "markdown",
   "metadata": {},
   "source": [
    "We sholud replace the '-' value with some numerical value I'm replacing it with 5"
   ]
  },
  {
   "cell_type": "code",
   "execution_count": 28,
   "metadata": {},
   "outputs": [],
   "source": [
    "accident_data['ClassificationOfAccident'] = accident_data['ClassificationOfAccident'].apply(lambda x: int(x) if str.isnumeric(x) else 5)"
   ]
  },
  {
   "cell_type": "markdown",
   "metadata": {},
   "source": [
    "<a id='col_rearange'></a>\n",
    "### 2.6 Rearanging Columns "
   ]
  },
  {
   "cell_type": "code",
   "execution_count": 29,
   "metadata": {},
   "outputs": [
    {
     "data": {
      "text/html": [
       "<div>\n",
       "<style scoped>\n",
       "    .dataframe tbody tr th:only-of-type {\n",
       "        vertical-align: middle;\n",
       "    }\n",
       "\n",
       "    .dataframe tbody tr th {\n",
       "        vertical-align: top;\n",
       "    }\n",
       "\n",
       "    .dataframe thead th {\n",
       "        text-align: right;\n",
       "    }\n",
       "</style>\n",
       "<table border=\"1\" class=\"dataframe\">\n",
       "  <thead>\n",
       "    <tr style=\"text-align: right;\">\n",
       "      <th></th>\n",
       "      <th>Acc_datetime</th>\n",
       "      <th>NatureAccident</th>\n",
       "      <th>Causes</th>\n",
       "      <th>RoadFeature</th>\n",
       "      <th>RoadCondition</th>\n",
       "      <th>IntersectionTypeControl</th>\n",
       "      <th>WeatherCondition</th>\n",
       "      <th>Fatal</th>\n",
       "      <th>Grevious</th>\n",
       "      <th>Minor</th>\n",
       "      <th>Injured</th>\n",
       "      <th>NumAnimalsKilled</th>\n",
       "      <th>HelpProvidedByAmbulancePatrol</th>\n",
       "      <th>Acc_daytime</th>\n",
       "      <th>Acc_speed</th>\n",
       "      <th>AccLocation</th>\n",
       "      <th>Remarks</th>\n",
       "      <th>VehicleResponsible</th>\n",
       "      <th>ClassificationOfAccident</th>\n",
       "    </tr>\n",
       "  </thead>\n",
       "  <tbody>\n",
       "    <tr>\n",
       "      <td>0</td>\n",
       "      <td>9/6/2015 09:00 AM</td>\n",
       "      <td>2</td>\n",
       "      <td>2</td>\n",
       "      <td>2</td>\n",
       "      <td>1</td>\n",
       "      <td>9</td>\n",
       "      <td>1</td>\n",
       "      <td>0</td>\n",
       "      <td>2</td>\n",
       "      <td>1</td>\n",
       "      <td>0</td>\n",
       "      <td>0</td>\n",
       "      <td>2</td>\n",
       "      <td>5</td>\n",
       "      <td>69.50</td>\n",
       "      <td>Ch. 69+5006</td>\n",
       "      <td>NaN</td>\n",
       "      <td>One Diesel Truck collapsed</td>\n",
       "      <td>2</td>\n",
       "    </tr>\n",
       "    <tr>\n",
       "      <td>1</td>\n",
       "      <td>9/5/2014 07:18 AM</td>\n",
       "      <td>7</td>\n",
       "      <td>2</td>\n",
       "      <td>2</td>\n",
       "      <td>3</td>\n",
       "      <td>9</td>\n",
       "      <td>1</td>\n",
       "      <td>2</td>\n",
       "      <td>0</td>\n",
       "      <td>0</td>\n",
       "      <td>0</td>\n",
       "      <td>0</td>\n",
       "      <td>0</td>\n",
       "      <td>5</td>\n",
       "      <td>72.50</td>\n",
       "      <td>72+500</td>\n",
       "      <td>NaN</td>\n",
       "      <td>Lorry &amp; Scorpio</td>\n",
       "      <td>1</td>\n",
       "    </tr>\n",
       "    <tr>\n",
       "      <td>2</td>\n",
       "      <td>9/10/2014 08:50 AM</td>\n",
       "      <td>4</td>\n",
       "      <td>3</td>\n",
       "      <td>3</td>\n",
       "      <td>1</td>\n",
       "      <td>9</td>\n",
       "      <td>1</td>\n",
       "      <td>0</td>\n",
       "      <td>0</td>\n",
       "      <td>0</td>\n",
       "      <td>0</td>\n",
       "      <td>0</td>\n",
       "      <td>2</td>\n",
       "      <td>5</td>\n",
       "      <td>20.25</td>\n",
       "      <td>20+250 LHS</td>\n",
       "      <td>NO PROPERTY DAMAGES. INFORMED KEY PERSONS.</td>\n",
       "      <td>LCV (KA02 AD 4041) HIT CAR (KA 19 Z 8477)</td>\n",
       "      <td>5</td>\n",
       "    </tr>\n",
       "    <tr>\n",
       "      <td>3</td>\n",
       "      <td>8/9/2015 05:00 AM</td>\n",
       "      <td>1</td>\n",
       "      <td>2</td>\n",
       "      <td>1</td>\n",
       "      <td>3</td>\n",
       "      <td>9</td>\n",
       "      <td>1</td>\n",
       "      <td>0</td>\n",
       "      <td>1</td>\n",
       "      <td>1</td>\n",
       "      <td>0</td>\n",
       "      <td>0</td>\n",
       "      <td>2</td>\n",
       "      <td>1</td>\n",
       "      <td>0.00</td>\n",
       "      <td>NaN</td>\n",
       "      <td>NaN</td>\n",
       "      <td>Lorry Truck</td>\n",
       "      <td>2</td>\n",
       "    </tr>\n",
       "    <tr>\n",
       "      <td>4</td>\n",
       "      <td>8/4/2015 08:23 AM</td>\n",
       "      <td>2</td>\n",
       "      <td>2</td>\n",
       "      <td>4</td>\n",
       "      <td>4</td>\n",
       "      <td>9</td>\n",
       "      <td>1</td>\n",
       "      <td>0</td>\n",
       "      <td>2</td>\n",
       "      <td>1</td>\n",
       "      <td>1</td>\n",
       "      <td>0</td>\n",
       "      <td>2</td>\n",
       "      <td>5</td>\n",
       "      <td>126.80</td>\n",
       "      <td>126.800 KM RHS</td>\n",
       "      <td>A car upside due to over speed</td>\n",
       "      <td>Car</td>\n",
       "      <td>2</td>\n",
       "    </tr>\n",
       "  </tbody>\n",
       "</table>\n",
       "</div>"
      ],
      "text/plain": [
       "         Acc_datetime  NatureAccident  Causes  RoadFeature  RoadCondition  \\\n",
       "0   9/6/2015 09:00 AM               2       2            2              1   \n",
       "1   9/5/2014 07:18 AM               7       2            2              3   \n",
       "2  9/10/2014 08:50 AM               4       3            3              1   \n",
       "3   8/9/2015 05:00 AM               1       2            1              3   \n",
       "4   8/4/2015 08:23 AM               2       2            4              4   \n",
       "\n",
       "   IntersectionTypeControl  WeatherCondition  Fatal  Grevious  Minor  Injured  \\\n",
       "0                        9                 1      0         2      1        0   \n",
       "1                        9                 1      2         0      0        0   \n",
       "2                        9                 1      0         0      0        0   \n",
       "3                        9                 1      0         1      1        0   \n",
       "4                        9                 1      0         2      1        1   \n",
       "\n",
       "   NumAnimalsKilled  HelpProvidedByAmbulancePatrol  Acc_daytime  Acc_speed  \\\n",
       "0                 0                              2            5      69.50   \n",
       "1                 0                              0            5      72.50   \n",
       "2                 0                              2            5      20.25   \n",
       "3                 0                              2            1       0.00   \n",
       "4                 0                              2            5     126.80   \n",
       "\n",
       "      AccLocation                                     Remarks  \\\n",
       "0     Ch. 69+5006                                         NaN   \n",
       "1          72+500                                         NaN   \n",
       "2      20+250 LHS  NO PROPERTY DAMAGES. INFORMED KEY PERSONS.   \n",
       "3             NaN                                         NaN   \n",
       "4  126.800 KM RHS              A car upside due to over speed   \n",
       "\n",
       "                          VehicleResponsible  ClassificationOfAccident  \n",
       "0                 One Diesel Truck collapsed                         2  \n",
       "1                            Lorry & Scorpio                         1  \n",
       "2  LCV (KA02 AD 4041) HIT CAR (KA 19 Z 8477)                         5  \n",
       "3                                Lorry Truck                         2  \n",
       "4                                        Car                         2  "
      ]
     },
     "execution_count": 29,
     "metadata": {},
     "output_type": "execute_result"
    }
   ],
   "source": [
    "cols = ['Acc_datetime', 'NatureAccident', 'Causes', 'RoadFeature', 'RoadCondition','IntersectionTypeControl', \n",
    "        'WeatherCondition', 'Fatal', 'Grevious', 'Minor', 'Injured', 'NumAnimalsKilled','HelpProvidedByAmbulancePatrol', \n",
    "        'Acc_daytime', 'Acc_speed', 'AccLocation', 'Remarks','VehicleResponsible','ClassificationOfAccident']\n",
    "accident_data = accident_data[cols]\n",
    "accident_data.head()"
   ]
  },
  {
   "cell_type": "code",
   "execution_count": null,
   "metadata": {},
   "outputs": [],
   "source": []
  }
 ],
 "metadata": {
  "kernelspec": {
   "display_name": "Python 3",
   "language": "python",
   "name": "python3"
  },
  "language_info": {
   "codemirror_mode": {
    "name": "ipython",
    "version": 3
   },
   "file_extension": ".py",
   "mimetype": "text/x-python",
   "name": "python",
   "nbconvert_exporter": "python",
   "pygments_lexer": "ipython3",
   "version": "3.7.4"
  }
 },
 "nbformat": 4,
 "nbformat_minor": 2
}
