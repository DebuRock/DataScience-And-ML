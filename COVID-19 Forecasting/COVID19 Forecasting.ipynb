{
 "cells": [
  {
   "cell_type": "code",
   "execution_count": 1,
   "metadata": {},
   "outputs": [],
   "source": [
    "import pandas as pd\n",
    "import matplotlib.pyplot as plt\n",
    "import seaborn as sns"
   ]
  },
  {
   "cell_type": "code",
   "execution_count": 2,
   "metadata": {},
   "outputs": [],
   "source": [
    "sns.set_style('darkgrid')"
   ]
  },
  {
   "cell_type": "code",
   "execution_count": 3,
   "metadata": {},
   "outputs": [],
   "source": [
    "covid19_data = pd.read_csv('Datasets/train.csv', parse_dates=['Date'], index_col='Date')"
   ]
  },
  {
   "cell_type": "code",
   "execution_count": 4,
   "metadata": {},
   "outputs": [
    {
     "data": {
      "text/html": [
       "<div>\n",
       "<style scoped>\n",
       "    .dataframe tbody tr th:only-of-type {\n",
       "        vertical-align: middle;\n",
       "    }\n",
       "\n",
       "    .dataframe tbody tr th {\n",
       "        vertical-align: top;\n",
       "    }\n",
       "\n",
       "    .dataframe thead th {\n",
       "        text-align: right;\n",
       "    }\n",
       "</style>\n",
       "<table border=\"1\" class=\"dataframe\">\n",
       "  <thead>\n",
       "    <tr style=\"text-align: right;\">\n",
       "      <th></th>\n",
       "      <th>Id</th>\n",
       "      <th>Province_State</th>\n",
       "      <th>Country_Region</th>\n",
       "      <th>ConfirmedCases</th>\n",
       "      <th>Fatalities</th>\n",
       "    </tr>\n",
       "    <tr>\n",
       "      <th>Date</th>\n",
       "      <th></th>\n",
       "      <th></th>\n",
       "      <th></th>\n",
       "      <th></th>\n",
       "      <th></th>\n",
       "    </tr>\n",
       "  </thead>\n",
       "  <tbody>\n",
       "    <tr>\n",
       "      <td>2020-01-22</td>\n",
       "      <td>1</td>\n",
       "      <td>NaN</td>\n",
       "      <td>Afghanistan</td>\n",
       "      <td>0.0</td>\n",
       "      <td>0.0</td>\n",
       "    </tr>\n",
       "    <tr>\n",
       "      <td>2020-01-23</td>\n",
       "      <td>2</td>\n",
       "      <td>NaN</td>\n",
       "      <td>Afghanistan</td>\n",
       "      <td>0.0</td>\n",
       "      <td>0.0</td>\n",
       "    </tr>\n",
       "    <tr>\n",
       "      <td>2020-01-24</td>\n",
       "      <td>3</td>\n",
       "      <td>NaN</td>\n",
       "      <td>Afghanistan</td>\n",
       "      <td>0.0</td>\n",
       "      <td>0.0</td>\n",
       "    </tr>\n",
       "    <tr>\n",
       "      <td>2020-01-25</td>\n",
       "      <td>4</td>\n",
       "      <td>NaN</td>\n",
       "      <td>Afghanistan</td>\n",
       "      <td>0.0</td>\n",
       "      <td>0.0</td>\n",
       "    </tr>\n",
       "    <tr>\n",
       "      <td>2020-01-26</td>\n",
       "      <td>5</td>\n",
       "      <td>NaN</td>\n",
       "      <td>Afghanistan</td>\n",
       "      <td>0.0</td>\n",
       "      <td>0.0</td>\n",
       "    </tr>\n",
       "  </tbody>\n",
       "</table>\n",
       "</div>"
      ],
      "text/plain": [
       "            Id Province_State Country_Region  ConfirmedCases  Fatalities\n",
       "Date                                                                    \n",
       "2020-01-22   1            NaN    Afghanistan             0.0         0.0\n",
       "2020-01-23   2            NaN    Afghanistan             0.0         0.0\n",
       "2020-01-24   3            NaN    Afghanistan             0.0         0.0\n",
       "2020-01-25   4            NaN    Afghanistan             0.0         0.0\n",
       "2020-01-26   5            NaN    Afghanistan             0.0         0.0"
      ]
     },
     "execution_count": 4,
     "metadata": {},
     "output_type": "execute_result"
    }
   ],
   "source": [
    "covid19_data.head()"
   ]
  },
  {
   "cell_type": "code",
   "execution_count": 5,
   "metadata": {},
   "outputs": [
    {
     "name": "stdout",
     "output_type": "stream",
     "text": [
      "<class 'pandas.core.frame.DataFrame'>\n",
      "DatetimeIndex: 22338 entries, 2020-01-22 to 2020-04-03\n",
      "Data columns (total 5 columns):\n",
      "Id                22338 non-null int64\n",
      "Province_State    9490 non-null object\n",
      "Country_Region    22338 non-null object\n",
      "ConfirmedCases    22338 non-null float64\n",
      "Fatalities        22338 non-null float64\n",
      "dtypes: float64(2), int64(1), object(2)\n",
      "memory usage: 1.0+ MB\n"
     ]
    }
   ],
   "source": [
    "covid19_data.info()"
   ]
  },
  {
   "cell_type": "markdown",
   "metadata": {},
   "source": [
    "There are total 22338 covid19 records."
   ]
  },
  {
   "cell_type": "code",
   "execution_count": 6,
   "metadata": {},
   "outputs": [],
   "source": [
    "# Take only India\n",
    "covid19_india = covid19_data[covid19_data['Country_Region'] == 'India']"
   ]
  },
  {
   "cell_type": "code",
   "execution_count": 7,
   "metadata": {},
   "outputs": [],
   "source": [
    "del covid19_india['Province_State']"
   ]
  },
  {
   "cell_type": "code",
   "execution_count": 8,
   "metadata": {},
   "outputs": [
    {
     "data": {
      "text/html": [
       "<div>\n",
       "<style scoped>\n",
       "    .dataframe tbody tr th:only-of-type {\n",
       "        vertical-align: middle;\n",
       "    }\n",
       "\n",
       "    .dataframe tbody tr th {\n",
       "        vertical-align: top;\n",
       "    }\n",
       "\n",
       "    .dataframe thead th {\n",
       "        text-align: right;\n",
       "    }\n",
       "</style>\n",
       "<table border=\"1\" class=\"dataframe\">\n",
       "  <thead>\n",
       "    <tr style=\"text-align: right;\">\n",
       "      <th></th>\n",
       "      <th>Id</th>\n",
       "      <th>Country_Region</th>\n",
       "      <th>ConfirmedCases</th>\n",
       "      <th>Fatalities</th>\n",
       "    </tr>\n",
       "    <tr>\n",
       "      <th>Date</th>\n",
       "      <th></th>\n",
       "      <th></th>\n",
       "      <th></th>\n",
       "      <th></th>\n",
       "    </tr>\n",
       "  </thead>\n",
       "  <tbody>\n",
       "    <tr>\n",
       "      <td>2020-01-22</td>\n",
       "      <td>14874</td>\n",
       "      <td>India</td>\n",
       "      <td>0.0</td>\n",
       "      <td>0.0</td>\n",
       "    </tr>\n",
       "    <tr>\n",
       "      <td>2020-01-23</td>\n",
       "      <td>14875</td>\n",
       "      <td>India</td>\n",
       "      <td>0.0</td>\n",
       "      <td>0.0</td>\n",
       "    </tr>\n",
       "    <tr>\n",
       "      <td>2020-01-24</td>\n",
       "      <td>14876</td>\n",
       "      <td>India</td>\n",
       "      <td>0.0</td>\n",
       "      <td>0.0</td>\n",
       "    </tr>\n",
       "    <tr>\n",
       "      <td>2020-01-25</td>\n",
       "      <td>14877</td>\n",
       "      <td>India</td>\n",
       "      <td>0.0</td>\n",
       "      <td>0.0</td>\n",
       "    </tr>\n",
       "    <tr>\n",
       "      <td>2020-01-26</td>\n",
       "      <td>14878</td>\n",
       "      <td>India</td>\n",
       "      <td>0.0</td>\n",
       "      <td>0.0</td>\n",
       "    </tr>\n",
       "  </tbody>\n",
       "</table>\n",
       "</div>"
      ],
      "text/plain": [
       "               Id Country_Region  ConfirmedCases  Fatalities\n",
       "Date                                                        \n",
       "2020-01-22  14874          India             0.0         0.0\n",
       "2020-01-23  14875          India             0.0         0.0\n",
       "2020-01-24  14876          India             0.0         0.0\n",
       "2020-01-25  14877          India             0.0         0.0\n",
       "2020-01-26  14878          India             0.0         0.0"
      ]
     },
     "execution_count": 8,
     "metadata": {},
     "output_type": "execute_result"
    }
   ],
   "source": [
    "covid19_india.head()"
   ]
  },
  {
   "cell_type": "code",
   "execution_count": 9,
   "metadata": {},
   "outputs": [
    {
     "data": {
      "text/html": [
       "<div>\n",
       "<style scoped>\n",
       "    .dataframe tbody tr th:only-of-type {\n",
       "        vertical-align: middle;\n",
       "    }\n",
       "\n",
       "    .dataframe tbody tr th {\n",
       "        vertical-align: top;\n",
       "    }\n",
       "\n",
       "    .dataframe thead th {\n",
       "        text-align: right;\n",
       "    }\n",
       "</style>\n",
       "<table border=\"1\" class=\"dataframe\">\n",
       "  <thead>\n",
       "    <tr style=\"text-align: right;\">\n",
       "      <th></th>\n",
       "      <th>Id</th>\n",
       "      <th>Country_Region</th>\n",
       "      <th>ConfirmedCases</th>\n",
       "      <th>Fatalities</th>\n",
       "    </tr>\n",
       "    <tr>\n",
       "      <th>Date</th>\n",
       "      <th></th>\n",
       "      <th></th>\n",
       "      <th></th>\n",
       "      <th></th>\n",
       "    </tr>\n",
       "  </thead>\n",
       "  <tbody>\n",
       "    <tr>\n",
       "      <td>2020-01-22</td>\n",
       "      <td>14874</td>\n",
       "      <td>India</td>\n",
       "      <td>0.0</td>\n",
       "      <td>0.0</td>\n",
       "    </tr>\n",
       "    <tr>\n",
       "      <td>2020-01-23</td>\n",
       "      <td>14875</td>\n",
       "      <td>India</td>\n",
       "      <td>0.0</td>\n",
       "      <td>0.0</td>\n",
       "    </tr>\n",
       "    <tr>\n",
       "      <td>2020-01-24</td>\n",
       "      <td>14876</td>\n",
       "      <td>India</td>\n",
       "      <td>0.0</td>\n",
       "      <td>0.0</td>\n",
       "    </tr>\n",
       "    <tr>\n",
       "      <td>2020-01-25</td>\n",
       "      <td>14877</td>\n",
       "      <td>India</td>\n",
       "      <td>0.0</td>\n",
       "      <td>0.0</td>\n",
       "    </tr>\n",
       "    <tr>\n",
       "      <td>2020-01-26</td>\n",
       "      <td>14878</td>\n",
       "      <td>India</td>\n",
       "      <td>0.0</td>\n",
       "      <td>0.0</td>\n",
       "    </tr>\n",
       "    <tr>\n",
       "      <td>...</td>\n",
       "      <td>...</td>\n",
       "      <td>...</td>\n",
       "      <td>...</td>\n",
       "      <td>...</td>\n",
       "    </tr>\n",
       "    <tr>\n",
       "      <td>2020-03-30</td>\n",
       "      <td>14942</td>\n",
       "      <td>India</td>\n",
       "      <td>1251.0</td>\n",
       "      <td>32.0</td>\n",
       "    </tr>\n",
       "    <tr>\n",
       "      <td>2020-03-31</td>\n",
       "      <td>14943</td>\n",
       "      <td>India</td>\n",
       "      <td>1397.0</td>\n",
       "      <td>35.0</td>\n",
       "    </tr>\n",
       "    <tr>\n",
       "      <td>2020-04-01</td>\n",
       "      <td>14944</td>\n",
       "      <td>India</td>\n",
       "      <td>1998.0</td>\n",
       "      <td>58.0</td>\n",
       "    </tr>\n",
       "    <tr>\n",
       "      <td>2020-04-02</td>\n",
       "      <td>14945</td>\n",
       "      <td>India</td>\n",
       "      <td>2543.0</td>\n",
       "      <td>72.0</td>\n",
       "    </tr>\n",
       "    <tr>\n",
       "      <td>2020-04-03</td>\n",
       "      <td>14946</td>\n",
       "      <td>India</td>\n",
       "      <td>2567.0</td>\n",
       "      <td>72.0</td>\n",
       "    </tr>\n",
       "  </tbody>\n",
       "</table>\n",
       "<p>73 rows × 4 columns</p>\n",
       "</div>"
      ],
      "text/plain": [
       "               Id Country_Region  ConfirmedCases  Fatalities\n",
       "Date                                                        \n",
       "2020-01-22  14874          India             0.0         0.0\n",
       "2020-01-23  14875          India             0.0         0.0\n",
       "2020-01-24  14876          India             0.0         0.0\n",
       "2020-01-25  14877          India             0.0         0.0\n",
       "2020-01-26  14878          India             0.0         0.0\n",
       "...           ...            ...             ...         ...\n",
       "2020-03-30  14942          India          1251.0        32.0\n",
       "2020-03-31  14943          India          1397.0        35.0\n",
       "2020-04-01  14944          India          1998.0        58.0\n",
       "2020-04-02  14945          India          2543.0        72.0\n",
       "2020-04-03  14946          India          2567.0        72.0\n",
       "\n",
       "[73 rows x 4 columns]"
      ]
     },
     "execution_count": 9,
     "metadata": {},
     "output_type": "execute_result"
    }
   ],
   "source": [
    "covid19_india"
   ]
  },
  {
   "cell_type": "code",
   "execution_count": 10,
   "metadata": {},
   "outputs": [
    {
     "name": "stderr",
     "output_type": "stream",
     "text": [
      "C:\\Anaconda\\lib\\site-packages\\ipykernel_launcher.py:1: SettingWithCopyWarning: \n",
      "A value is trying to be set on a copy of a slice from a DataFrame.\n",
      "Try using .loc[row_indexer,col_indexer] = value instead\n",
      "\n",
      "See the caveats in the documentation: http://pandas.pydata.org/pandas-docs/stable/user_guide/indexing.html#returning-a-view-versus-a-copy\n",
      "  \"\"\"Entry point for launching an IPython kernel.\n"
     ]
    }
   ],
   "source": [
    "covid19_india['Fatality Rate'] = covid19_india.apply(lambda x: x['Fatalities']/x['ConfirmedCases'] if x['ConfirmedCases'] != 0.0 else 0.0, axis=1)"
   ]
  },
  {
   "cell_type": "code",
   "execution_count": 11,
   "metadata": {},
   "outputs": [
    {
     "name": "stderr",
     "output_type": "stream",
     "text": [
      "C:\\Anaconda\\lib\\site-packages\\pandas\\plotting\\_matplotlib\\converter.py:103: FutureWarning: Using an implicitly registered datetime converter for a matplotlib plotting method. The converter was registered by pandas on import. Future versions of pandas will require you to explicitly register matplotlib converters.\n",
      "\n",
      "To register the converters:\n",
      "\t>>> from pandas.plotting import register_matplotlib_converters\n",
      "\t>>> register_matplotlib_converters()\n",
      "  warnings.warn(msg, FutureWarning)\n"
     ]
    },
    {
     "data": {
      "image/png": "[encoded data removed]",
      "text/plain": [
       "<Figure size 1080x360 with 2 Axes>"
      ]
     },
     "metadata": {},
     "output_type": "display_data"
    }
   ],
   "source": [
    "fig, ax = plt.subplots(1, 2, sharex=True, figsize=(15,5))\n",
    "ax[0].plot(covid19_india['ConfirmedCases'], 'r')\n",
    "ax[0].set_title('Confirmed Cases')\n",
    "ax[1].plot(covid19_india['Fatality Rate'], 'g')\n",
    "ax[1].set_title('Fatality Rate')\n",
    "plt.show()"
   ]
  },
  {
   "cell_type": "code",
   "execution_count": 16,
   "metadata": {},
   "outputs": [
    {
     "data": {
      "text/html": [
       "<div>\n",
       "<style scoped>\n",
       "    .dataframe tbody tr th:only-of-type {\n",
       "        vertical-align: middle;\n",
       "    }\n",
       "\n",
       "    .dataframe tbody tr th {\n",
       "        vertical-align: top;\n",
       "    }\n",
       "\n",
       "    .dataframe thead th {\n",
       "        text-align: right;\n",
       "    }\n",
       "</style>\n",
       "<table border=\"1\" class=\"dataframe\">\n",
       "  <thead>\n",
       "    <tr style=\"text-align: right;\">\n",
       "      <th></th>\n",
       "      <th>Id</th>\n",
       "      <th>Country_Region</th>\n",
       "      <th>ConfirmedCases</th>\n",
       "      <th>Fatalities</th>\n",
       "      <th>Fatality Rate</th>\n",
       "    </tr>\n",
       "    <tr>\n",
       "      <th>Date</th>\n",
       "      <th></th>\n",
       "      <th></th>\n",
       "      <th></th>\n",
       "      <th></th>\n",
       "      <th></th>\n",
       "    </tr>\n",
       "  </thead>\n",
       "  <tbody>\n",
       "    <tr>\n",
       "      <td>2020-03-11</td>\n",
       "      <td>14923</td>\n",
       "      <td>India</td>\n",
       "      <td>62.0</td>\n",
       "      <td>1.0</td>\n",
       "      <td>0.016129</td>\n",
       "    </tr>\n",
       "    <tr>\n",
       "      <td>2020-03-12</td>\n",
       "      <td>14924</td>\n",
       "      <td>India</td>\n",
       "      <td>73.0</td>\n",
       "      <td>1.0</td>\n",
       "      <td>0.013699</td>\n",
       "    </tr>\n",
       "    <tr>\n",
       "      <td>2020-03-13</td>\n",
       "      <td>14925</td>\n",
       "      <td>India</td>\n",
       "      <td>82.0</td>\n",
       "      <td>2.0</td>\n",
       "      <td>0.024390</td>\n",
       "    </tr>\n",
       "    <tr>\n",
       "      <td>2020-03-14</td>\n",
       "      <td>14926</td>\n",
       "      <td>India</td>\n",
       "      <td>102.0</td>\n",
       "      <td>2.0</td>\n",
       "      <td>0.019608</td>\n",
       "    </tr>\n",
       "    <tr>\n",
       "      <td>2020-03-15</td>\n",
       "      <td>14927</td>\n",
       "      <td>India</td>\n",
       "      <td>113.0</td>\n",
       "      <td>2.0</td>\n",
       "      <td>0.017699</td>\n",
       "    </tr>\n",
       "    <tr>\n",
       "      <td>2020-03-16</td>\n",
       "      <td>14928</td>\n",
       "      <td>India</td>\n",
       "      <td>119.0</td>\n",
       "      <td>2.0</td>\n",
       "      <td>0.016807</td>\n",
       "    </tr>\n",
       "    <tr>\n",
       "      <td>2020-03-17</td>\n",
       "      <td>14929</td>\n",
       "      <td>India</td>\n",
       "      <td>142.0</td>\n",
       "      <td>3.0</td>\n",
       "      <td>0.021127</td>\n",
       "    </tr>\n",
       "    <tr>\n",
       "      <td>2020-03-18</td>\n",
       "      <td>14930</td>\n",
       "      <td>India</td>\n",
       "      <td>156.0</td>\n",
       "      <td>3.0</td>\n",
       "      <td>0.019231</td>\n",
       "    </tr>\n",
       "    <tr>\n",
       "      <td>2020-03-19</td>\n",
       "      <td>14931</td>\n",
       "      <td>India</td>\n",
       "      <td>194.0</td>\n",
       "      <td>4.0</td>\n",
       "      <td>0.020619</td>\n",
       "    </tr>\n",
       "    <tr>\n",
       "      <td>2020-03-20</td>\n",
       "      <td>14932</td>\n",
       "      <td>India</td>\n",
       "      <td>244.0</td>\n",
       "      <td>5.0</td>\n",
       "      <td>0.020492</td>\n",
       "    </tr>\n",
       "    <tr>\n",
       "      <td>2020-03-21</td>\n",
       "      <td>14933</td>\n",
       "      <td>India</td>\n",
       "      <td>330.0</td>\n",
       "      <td>4.0</td>\n",
       "      <td>0.012121</td>\n",
       "    </tr>\n",
       "    <tr>\n",
       "      <td>2020-03-22</td>\n",
       "      <td>14934</td>\n",
       "      <td>India</td>\n",
       "      <td>396.0</td>\n",
       "      <td>7.0</td>\n",
       "      <td>0.017677</td>\n",
       "    </tr>\n",
       "    <tr>\n",
       "      <td>2020-03-23</td>\n",
       "      <td>14935</td>\n",
       "      <td>India</td>\n",
       "      <td>499.0</td>\n",
       "      <td>10.0</td>\n",
       "      <td>0.020040</td>\n",
       "    </tr>\n",
       "    <tr>\n",
       "      <td>2020-03-24</td>\n",
       "      <td>14936</td>\n",
       "      <td>India</td>\n",
       "      <td>536.0</td>\n",
       "      <td>10.0</td>\n",
       "      <td>0.018657</td>\n",
       "    </tr>\n",
       "    <tr>\n",
       "      <td>2020-03-25</td>\n",
       "      <td>14937</td>\n",
       "      <td>India</td>\n",
       "      <td>657.0</td>\n",
       "      <td>12.0</td>\n",
       "      <td>0.018265</td>\n",
       "    </tr>\n",
       "    <tr>\n",
       "      <td>2020-03-26</td>\n",
       "      <td>14938</td>\n",
       "      <td>India</td>\n",
       "      <td>727.0</td>\n",
       "      <td>20.0</td>\n",
       "      <td>0.027510</td>\n",
       "    </tr>\n",
       "    <tr>\n",
       "      <td>2020-03-27</td>\n",
       "      <td>14939</td>\n",
       "      <td>India</td>\n",
       "      <td>887.0</td>\n",
       "      <td>20.0</td>\n",
       "      <td>0.022548</td>\n",
       "    </tr>\n",
       "    <tr>\n",
       "      <td>2020-03-28</td>\n",
       "      <td>14940</td>\n",
       "      <td>India</td>\n",
       "      <td>987.0</td>\n",
       "      <td>24.0</td>\n",
       "      <td>0.024316</td>\n",
       "    </tr>\n",
       "    <tr>\n",
       "      <td>2020-03-29</td>\n",
       "      <td>14941</td>\n",
       "      <td>India</td>\n",
       "      <td>1024.0</td>\n",
       "      <td>27.0</td>\n",
       "      <td>0.026367</td>\n",
       "    </tr>\n",
       "    <tr>\n",
       "      <td>2020-03-30</td>\n",
       "      <td>14942</td>\n",
       "      <td>India</td>\n",
       "      <td>1251.0</td>\n",
       "      <td>32.0</td>\n",
       "      <td>0.025580</td>\n",
       "    </tr>\n",
       "    <tr>\n",
       "      <td>2020-03-31</td>\n",
       "      <td>14943</td>\n",
       "      <td>India</td>\n",
       "      <td>1397.0</td>\n",
       "      <td>35.0</td>\n",
       "      <td>0.025054</td>\n",
       "    </tr>\n",
       "    <tr>\n",
       "      <td>2020-04-01</td>\n",
       "      <td>14944</td>\n",
       "      <td>India</td>\n",
       "      <td>1998.0</td>\n",
       "      <td>58.0</td>\n",
       "      <td>0.029029</td>\n",
       "    </tr>\n",
       "    <tr>\n",
       "      <td>2020-04-02</td>\n",
       "      <td>14945</td>\n",
       "      <td>India</td>\n",
       "      <td>2543.0</td>\n",
       "      <td>72.0</td>\n",
       "      <td>0.028313</td>\n",
       "    </tr>\n",
       "    <tr>\n",
       "      <td>2020-04-03</td>\n",
       "      <td>14946</td>\n",
       "      <td>India</td>\n",
       "      <td>2567.0</td>\n",
       "      <td>72.0</td>\n",
       "      <td>0.028048</td>\n",
       "    </tr>\n",
       "  </tbody>\n",
       "</table>\n",
       "</div>"
      ],
      "text/plain": [
       "               Id Country_Region  ConfirmedCases  Fatalities  Fatality Rate\n",
       "Date                                                                       \n",
       "2020-03-11  14923          India            62.0         1.0       0.016129\n",
       "2020-03-12  14924          India            73.0         1.0       0.013699\n",
       "2020-03-13  14925          India            82.0         2.0       0.024390\n",
       "2020-03-14  14926          India           102.0         2.0       0.019608\n",
       "2020-03-15  14927          India           113.0         2.0       0.017699\n",
       "2020-03-16  14928          India           119.0         2.0       0.016807\n",
       "2020-03-17  14929          India           142.0         3.0       0.021127\n",
       "2020-03-18  14930          India           156.0         3.0       0.019231\n",
       "2020-03-19  14931          India           194.0         4.0       0.020619\n",
       "2020-03-20  14932          India           244.0         5.0       0.020492\n",
       "2020-03-21  14933          India           330.0         4.0       0.012121\n",
       "2020-03-22  14934          India           396.0         7.0       0.017677\n",
       "2020-03-23  14935          India           499.0        10.0       0.020040\n",
       "2020-03-24  14936          India           536.0        10.0       0.018657\n",
       "2020-03-25  14937          India           657.0        12.0       0.018265\n",
       "2020-03-26  14938          India           727.0        20.0       0.027510\n",
       "2020-03-27  14939          India           887.0        20.0       0.022548\n",
       "2020-03-28  14940          India           987.0        24.0       0.024316\n",
       "2020-03-29  14941          India          1024.0        27.0       0.026367\n",
       "2020-03-30  14942          India          1251.0        32.0       0.025580\n",
       "2020-03-31  14943          India          1397.0        35.0       0.025054\n",
       "2020-04-01  14944          India          1998.0        58.0       0.029029\n",
       "2020-04-02  14945          India          2543.0        72.0       0.028313\n",
       "2020-04-03  14946          India          2567.0        72.0       0.028048"
      ]
     },
     "execution_count": 16,
     "metadata": {},
     "output_type": "execute_result"
    }
   ],
   "source": [
    "covid19_india[covid19_india['Fatalities'] > 0]"
   ]
  },
  {
   "cell_type": "code",
   "execution_count": 16,
   "metadata": {},
   "outputs": [],
   "source": [
    "covid19_data_week4 = pd.read_csv('Datasets/train1.csv', parse_dates=['Date'], index_col='Date')"
   ]
  },
  {
   "cell_type": "code",
   "execution_count": 24,
   "metadata": {},
   "outputs": [
    {
     "data": {
      "text/html": [
       "<div>\n",
       "<style scoped>\n",
       "    .dataframe tbody tr th:only-of-type {\n",
       "        vertical-align: middle;\n",
       "    }\n",
       "\n",
       "    .dataframe tbody tr th {\n",
       "        vertical-align: top;\n",
       "    }\n",
       "\n",
       "    .dataframe thead th {\n",
       "        text-align: right;\n",
       "    }\n",
       "</style>\n",
       "<table border=\"1\" class=\"dataframe\">\n",
       "  <thead>\n",
       "    <tr style=\"text-align: right;\">\n",
       "      <th></th>\n",
       "      <th>Id</th>\n",
       "      <th>Province_State</th>\n",
       "      <th>Country_Region</th>\n",
       "      <th>ConfirmedCases</th>\n",
       "      <th>Fatalities</th>\n",
       "    </tr>\n",
       "    <tr>\n",
       "      <th>Date</th>\n",
       "      <th></th>\n",
       "      <th></th>\n",
       "      <th></th>\n",
       "      <th></th>\n",
       "      <th></th>\n",
       "    </tr>\n",
       "  </thead>\n",
       "  <tbody>\n",
       "    <tr>\n",
       "      <td>2020-01-22</td>\n",
       "      <td>1</td>\n",
       "      <td>NaN</td>\n",
       "      <td>Afghanistan</td>\n",
       "      <td>0.0</td>\n",
       "      <td>0.0</td>\n",
       "    </tr>\n",
       "    <tr>\n",
       "      <td>2020-01-23</td>\n",
       "      <td>2</td>\n",
       "      <td>NaN</td>\n",
       "      <td>Afghanistan</td>\n",
       "      <td>0.0</td>\n",
       "      <td>0.0</td>\n",
       "    </tr>\n",
       "    <tr>\n",
       "      <td>2020-01-24</td>\n",
       "      <td>3</td>\n",
       "      <td>NaN</td>\n",
       "      <td>Afghanistan</td>\n",
       "      <td>0.0</td>\n",
       "      <td>0.0</td>\n",
       "    </tr>\n",
       "    <tr>\n",
       "      <td>2020-01-25</td>\n",
       "      <td>4</td>\n",
       "      <td>NaN</td>\n",
       "      <td>Afghanistan</td>\n",
       "      <td>0.0</td>\n",
       "      <td>0.0</td>\n",
       "    </tr>\n",
       "    <tr>\n",
       "      <td>2020-01-26</td>\n",
       "      <td>5</td>\n",
       "      <td>NaN</td>\n",
       "      <td>Afghanistan</td>\n",
       "      <td>0.0</td>\n",
       "      <td>0.0</td>\n",
       "    </tr>\n",
       "  </tbody>\n",
       "</table>\n",
       "</div>"
      ],
      "text/plain": [
       "            Id Province_State Country_Region  ConfirmedCases  Fatalities\n",
       "Date                                                                    \n",
       "2020-01-22   1            NaN    Afghanistan             0.0         0.0\n",
       "2020-01-23   2            NaN    Afghanistan             0.0         0.0\n",
       "2020-01-24   3            NaN    Afghanistan             0.0         0.0\n",
       "2020-01-25   4            NaN    Afghanistan             0.0         0.0\n",
       "2020-01-26   5            NaN    Afghanistan             0.0         0.0"
      ]
     },
     "execution_count": 24,
     "metadata": {},
     "output_type": "execute_result"
    }
   ],
   "source": [
    "covid19_data_week4.head()"
   ]
  },
  {
   "cell_type": "code",
   "execution_count": 25,
   "metadata": {},
   "outputs": [
    {
     "name": "stdout",
     "output_type": "stream",
     "text": [
      "<class 'pandas.core.frame.DataFrame'>\n",
      "DatetimeIndex: 28796 entries, 2020-01-22 to 2020-04-22\n",
      "Data columns (total 5 columns):\n",
      "Id                28796 non-null int64\n",
      "Province_State    12236 non-null object\n",
      "Country_Region    28796 non-null object\n",
      "ConfirmedCases    28796 non-null float64\n",
      "Fatalities        28796 non-null float64\n",
      "dtypes: float64(2), int64(1), object(2)\n",
      "memory usage: 1.3+ MB\n"
     ]
    }
   ],
   "source": [
    "covid19_data_week4.info()"
   ]
  },
  {
   "cell_type": "code",
   "execution_count": 26,
   "metadata": {},
   "outputs": [],
   "source": [
    "covid19_india_week4 = covid19_data_week4[covid19_data_week4['Country_Region'] == 'India']"
   ]
  },
  {
   "cell_type": "code",
   "execution_count": 28,
   "metadata": {},
   "outputs": [
    {
     "data": {
      "text/html": [
       "<div>\n",
       "<style scoped>\n",
       "    .dataframe tbody tr th:only-of-type {\n",
       "        vertical-align: middle;\n",
       "    }\n",
       "\n",
       "    .dataframe tbody tr th {\n",
       "        vertical-align: top;\n",
       "    }\n",
       "\n",
       "    .dataframe thead th {\n",
       "        text-align: right;\n",
       "    }\n",
       "</style>\n",
       "<table border=\"1\" class=\"dataframe\">\n",
       "  <thead>\n",
       "    <tr style=\"text-align: right;\">\n",
       "      <th></th>\n",
       "      <th>Id</th>\n",
       "      <th>Province_State</th>\n",
       "      <th>Country_Region</th>\n",
       "      <th>ConfirmedCases</th>\n",
       "      <th>Fatalities</th>\n",
       "    </tr>\n",
       "    <tr>\n",
       "      <th>Date</th>\n",
       "      <th></th>\n",
       "      <th></th>\n",
       "      <th></th>\n",
       "      <th></th>\n",
       "      <th></th>\n",
       "    </tr>\n",
       "  </thead>\n",
       "  <tbody>\n",
       "    <tr>\n",
       "      <td>2020-01-22</td>\n",
       "      <td>14874</td>\n",
       "      <td>NaN</td>\n",
       "      <td>India</td>\n",
       "      <td>0.0</td>\n",
       "      <td>0.0</td>\n",
       "    </tr>\n",
       "    <tr>\n",
       "      <td>2020-01-23</td>\n",
       "      <td>14875</td>\n",
       "      <td>NaN</td>\n",
       "      <td>India</td>\n",
       "      <td>0.0</td>\n",
       "      <td>0.0</td>\n",
       "    </tr>\n",
       "    <tr>\n",
       "      <td>2020-01-24</td>\n",
       "      <td>14876</td>\n",
       "      <td>NaN</td>\n",
       "      <td>India</td>\n",
       "      <td>0.0</td>\n",
       "      <td>0.0</td>\n",
       "    </tr>\n",
       "    <tr>\n",
       "      <td>2020-01-25</td>\n",
       "      <td>14877</td>\n",
       "      <td>NaN</td>\n",
       "      <td>India</td>\n",
       "      <td>0.0</td>\n",
       "      <td>0.0</td>\n",
       "    </tr>\n",
       "    <tr>\n",
       "      <td>2020-01-26</td>\n",
       "      <td>14878</td>\n",
       "      <td>NaN</td>\n",
       "      <td>India</td>\n",
       "      <td>0.0</td>\n",
       "      <td>0.0</td>\n",
       "    </tr>\n",
       "    <tr>\n",
       "      <td>...</td>\n",
       "      <td>...</td>\n",
       "      <td>...</td>\n",
       "      <td>...</td>\n",
       "      <td>...</td>\n",
       "      <td>...</td>\n",
       "    </tr>\n",
       "    <tr>\n",
       "      <td>2020-03-30</td>\n",
       "      <td>14942</td>\n",
       "      <td>NaN</td>\n",
       "      <td>India</td>\n",
       "      <td>1251.0</td>\n",
       "      <td>32.0</td>\n",
       "    </tr>\n",
       "    <tr>\n",
       "      <td>2020-03-31</td>\n",
       "      <td>14943</td>\n",
       "      <td>NaN</td>\n",
       "      <td>India</td>\n",
       "      <td>1397.0</td>\n",
       "      <td>35.0</td>\n",
       "    </tr>\n",
       "    <tr>\n",
       "      <td>2020-04-01</td>\n",
       "      <td>14944</td>\n",
       "      <td>NaN</td>\n",
       "      <td>India</td>\n",
       "      <td>1998.0</td>\n",
       "      <td>58.0</td>\n",
       "    </tr>\n",
       "    <tr>\n",
       "      <td>2020-04-02</td>\n",
       "      <td>14945</td>\n",
       "      <td>NaN</td>\n",
       "      <td>India</td>\n",
       "      <td>2543.0</td>\n",
       "      <td>72.0</td>\n",
       "    </tr>\n",
       "    <tr>\n",
       "      <td>2020-04-03</td>\n",
       "      <td>14946</td>\n",
       "      <td>NaN</td>\n",
       "      <td>India</td>\n",
       "      <td>2567.0</td>\n",
       "      <td>72.0</td>\n",
       "    </tr>\n",
       "  </tbody>\n",
       "</table>\n",
       "<p>73 rows × 5 columns</p>\n",
       "</div>"
      ],
      "text/plain": [
       "               Id Province_State Country_Region  ConfirmedCases  Fatalities\n",
       "Date                                                                       \n",
       "2020-01-22  14874            NaN          India             0.0         0.0\n",
       "2020-01-23  14875            NaN          India             0.0         0.0\n",
       "2020-01-24  14876            NaN          India             0.0         0.0\n",
       "2020-01-25  14877            NaN          India             0.0         0.0\n",
       "2020-01-26  14878            NaN          India             0.0         0.0\n",
       "...           ...            ...            ...             ...         ...\n",
       "2020-03-30  14942            NaN          India          1251.0        32.0\n",
       "2020-03-31  14943            NaN          India          1397.0        35.0\n",
       "2020-04-01  14944            NaN          India          1998.0        58.0\n",
       "2020-04-02  14945            NaN          India          2543.0        72.0\n",
       "2020-04-03  14946            NaN          India          2567.0        72.0\n",
       "\n",
       "[73 rows x 5 columns]"
      ]
     },
     "execution_count": 28,
     "metadata": {},
     "output_type": "execute_result"
    }
   ],
   "source": [
    "covid19_india_week4"
   ]
  },
  {
   "cell_type": "code",
   "execution_count": 29,
   "metadata": {},
   "outputs": [],
   "source": [
    "del covid19_india_week4['Province_State']"
   ]
  },
  {
   "cell_type": "code",
   "execution_count": 30,
   "metadata": {},
   "outputs": [
    {
     "name": "stderr",
     "output_type": "stream",
     "text": [
      "C:\\Anaconda\\lib\\site-packages\\ipykernel_launcher.py:1: SettingWithCopyWarning: \n",
      "A value is trying to be set on a copy of a slice from a DataFrame.\n",
      "Try using .loc[row_indexer,col_indexer] = value instead\n",
      "\n",
      "See the caveats in the documentation: http://pandas.pydata.org/pandas-docs/stable/user_guide/indexing.html#returning-a-view-versus-a-copy\n",
      "  \"\"\"Entry point for launching an IPython kernel.\n"
     ]
    }
   ],
   "source": [
    "covid19_india_week4['Fatality Rate'] = covid19_india_week4.apply(lambda x: x['Fatalities']/x['ConfirmedCases'] if x['ConfirmedCases'] != 0.0 else 0.0, axis=1)"
   ]
  },
  {
   "cell_type": "code",
   "execution_count": 31,
   "metadata": {},
   "outputs": [
    {
     "data": {
      "image/png": "[encoded data removed]",
      "text/plain": [
       "<Figure size 1080x360 with 2 Axes>"
      ]
     },
     "metadata": {},
     "output_type": "display_data"
    }
   ],
   "source": [
    "fig, ax = plt.subplots(1, 2, sharex=True, figsize=(15,5))\n",
    "ax[0].plot(covid19_india_week4['ConfirmedCases'], 'r')\n",
    "ax[0].set_title('Confirmed Cases')\n",
    "ax[1].plot(covid19_india_week4['Fatality Rate'], 'g')\n",
    "ax[1].set_title('Fatality Rate')\n",
    "plt.show()"
   ]
  },
  {
   "cell_type": "code",
   "execution_count": 32,
   "metadata": {},
   "outputs": [
    {
     "data": {
      "text/html": [
       "<div>\n",
       "<style scoped>\n",
       "    .dataframe tbody tr th:only-of-type {\n",
       "        vertical-align: middle;\n",
       "    }\n",
       "\n",
       "    .dataframe tbody tr th {\n",
       "        vertical-align: top;\n",
       "    }\n",
       "\n",
       "    .dataframe thead th {\n",
       "        text-align: right;\n",
       "    }\n",
       "</style>\n",
       "<table border=\"1\" class=\"dataframe\">\n",
       "  <thead>\n",
       "    <tr style=\"text-align: right;\">\n",
       "      <th></th>\n",
       "      <th>Id</th>\n",
       "      <th>Province_State</th>\n",
       "      <th>Country_Region</th>\n",
       "      <th>ConfirmedCases</th>\n",
       "      <th>Fatalities</th>\n",
       "    </tr>\n",
       "    <tr>\n",
       "      <th>Date</th>\n",
       "      <th></th>\n",
       "      <th></th>\n",
       "      <th></th>\n",
       "      <th></th>\n",
       "      <th></th>\n",
       "    </tr>\n",
       "  </thead>\n",
       "  <tbody>\n",
       "    <tr>\n",
       "      <td>2020-01-22</td>\n",
       "      <td>1</td>\n",
       "      <td>NaN</td>\n",
       "      <td>Afghanistan</td>\n",
       "      <td>0.0</td>\n",
       "      <td>0.0</td>\n",
       "    </tr>\n",
       "    <tr>\n",
       "      <td>2020-01-23</td>\n",
       "      <td>2</td>\n",
       "      <td>NaN</td>\n",
       "      <td>Afghanistan</td>\n",
       "      <td>0.0</td>\n",
       "      <td>0.0</td>\n",
       "    </tr>\n",
       "    <tr>\n",
       "      <td>2020-01-24</td>\n",
       "      <td>3</td>\n",
       "      <td>NaN</td>\n",
       "      <td>Afghanistan</td>\n",
       "      <td>0.0</td>\n",
       "      <td>0.0</td>\n",
       "    </tr>\n",
       "    <tr>\n",
       "      <td>2020-01-25</td>\n",
       "      <td>4</td>\n",
       "      <td>NaN</td>\n",
       "      <td>Afghanistan</td>\n",
       "      <td>0.0</td>\n",
       "      <td>0.0</td>\n",
       "    </tr>\n",
       "    <tr>\n",
       "      <td>2020-01-26</td>\n",
       "      <td>5</td>\n",
       "      <td>NaN</td>\n",
       "      <td>Afghanistan</td>\n",
       "      <td>0.0</td>\n",
       "      <td>0.0</td>\n",
       "    </tr>\n",
       "  </tbody>\n",
       "</table>\n",
       "</div>"
      ],
      "text/plain": [
       "            Id Province_State Country_Region  ConfirmedCases  Fatalities\n",
       "Date                                                                    \n",
       "2020-01-22   1            NaN    Afghanistan             0.0         0.0\n",
       "2020-01-23   2            NaN    Afghanistan             0.0         0.0\n",
       "2020-01-24   3            NaN    Afghanistan             0.0         0.0\n",
       "2020-01-25   4            NaN    Afghanistan             0.0         0.0\n",
       "2020-01-26   5            NaN    Afghanistan             0.0         0.0"
      ]
     },
     "execution_count": 32,
     "metadata": {},
     "output_type": "execute_result"
    }
   ],
   "source": [
    "covid19_data.head()"
   ]
  },
  {
   "cell_type": "code",
   "execution_count": 34,
   "metadata": {},
   "outputs": [],
   "source": [
    "covid19_china = covid19_data[covid19_data['Country_Region'] == \"China\"]"
   ]
  },
  {
   "cell_type": "code",
   "execution_count": 36,
   "metadata": {},
   "outputs": [
    {
     "name": "stdout",
     "output_type": "stream",
     "text": [
      "<class 'pandas.core.frame.DataFrame'>\n",
      "DatetimeIndex: 2409 entries, 2020-01-22 to 2020-04-03\n",
      "Data columns (total 5 columns):\n",
      "Id                2409 non-null int64\n",
      "Province_State    2409 non-null object\n",
      "Country_Region    2409 non-null object\n",
      "ConfirmedCases    2409 non-null float64\n",
      "Fatalities        2409 non-null float64\n",
      "dtypes: float64(2), int64(1), object(2)\n",
      "memory usage: 112.9+ KB\n"
     ]
    }
   ],
   "source": [
    "covid19_china.info()"
   ]
  },
  {
   "cell_type": "code",
   "execution_count": 46,
   "metadata": {},
   "outputs": [
    {
     "name": "stdout",
     "output_type": "stream",
     "text": [
      "<class 'pandas.core.frame.DataFrame'>\n",
      "DatetimeIndex: 73 entries, 2020-01-22 to 2020-04-03\n",
      "Data columns (total 5 columns):\n",
      "Id                73 non-null int64\n",
      "Country_Region    73 non-null object\n",
      "ConfirmedCases    73 non-null float64\n",
      "Fatalities        73 non-null float64\n",
      "Fatality Rate     73 non-null float64\n",
      "dtypes: float64(3), int64(1), object(1)\n",
      "memory usage: 3.4+ KB\n"
     ]
    }
   ],
   "source": [
    "covid19_india_week4.info()"
   ]
  },
  {
   "cell_type": "code",
   "execution_count": 42,
   "metadata": {},
   "outputs": [],
   "source": [
    "covid19_china_spreading = covid19_china.groupby(covid19_china.index)['ConfirmedCases'].sum()"
   ]
  },
  {
   "cell_type": "code",
   "execution_count": 43,
   "metadata": {},
   "outputs": [
    {
     "data": {
      "text/plain": [
       "<matplotlib.axes._subplots.AxesSubplot at 0x17b83619448>"
      ]
     },
     "execution_count": 43,
     "metadata": {},
     "output_type": "execute_result"
    },
    {
     "data": {
      "image/png": "[encoded data removed]",
      "text/plain": [
       "<Figure size 432x288 with 1 Axes>"
      ]
     },
     "metadata": {},
     "output_type": "display_data"
    }
   ],
   "source": [
    "covid19_china_spreading.plot()"
   ]
  },
  {
   "cell_type": "code",
   "execution_count": 50,
   "metadata": {},
   "outputs": [
    {
     "data": {
      "text/plain": [
       "<matplotlib.axes._subplots.AxesSubplot at 0x17b8923c6c8>"
      ]
     },
     "execution_count": 50,
     "metadata": {},
     "output_type": "execute_result"
    },
    {
     "data": {
      "image/png": "[encoded data removed]",
      "text/plain": [
       "<Figure size 864x432 with 1 Axes>"
      ]
     },
     "metadata": {},
     "output_type": "display_data"
    }
   ],
   "source": [
    "## Comparision of COVID19 cases with china and india\n",
    "ax = covid19_india_week4.plot(y='ConfirmedCases', label='COVID19 Spread In India', figsize=(12, 6))\n",
    "covid19_china_spreading.plot(label='COVID19 Spread In China', ax=ax)"
   ]
  },
  {
   "cell_type": "code",
   "execution_count": null,
   "metadata": {},
   "outputs": [],
   "source": []
  }
 ],
 "metadata": {
  "kernelspec": {
   "display_name": "Python 3",
   "language": "python",
   "name": "python3"
  },
  "language_info": {
   "codemirror_mode": {
    "name": "ipython",
    "version": 3
   },
   "file_extension": ".py",
   "mimetype": "text/x-python",
   "name": "python",
   "nbconvert_exporter": "python",
   "pygments_lexer": "ipython3",
   "version": "3.7.4"
  }
 },
 "nbformat": 4,
 "nbformat_minor": 2
}
